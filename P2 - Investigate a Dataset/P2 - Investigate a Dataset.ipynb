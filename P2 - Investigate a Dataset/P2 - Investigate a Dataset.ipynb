{
 "cells": [
  {
   "cell_type": "markdown",
   "metadata": {
    "collapsed": true
   },
   "source": [
    "# Sinking the Titanic :  ‘women and children first’ ?"
   ]
  },
  {
   "cell_type": "markdown",
   "metadata": {},
   "source": [
    "The code of conduct \"women and children first\", https://it.wikipedia.org/wiki/Women_and_Children_First, whereby the lives of women and children are to be saved first in a life-threatening situation, typically abandoning ship, when survival resources such as lifeboats were limited, it is associated with the sinking of Titanic. \n",
    "\n",
    "In the investigate Titanic Data Set, we seek to find confirmations on the fact that it is adopted \"Women and children first\". In particular, we want to answer the following question: is True that factors like sex and Age have been relevance in the survival of a passenger? Furthermore, we consider if the passsengers were alone or with family on Titanic. \n",
    "\n",
    "The Titanic Dataset was obtained on the Kaggle website and contains demographics and passenger information from 891 of the 2224 passengers and crew on board the Titanic, https://www.kaggle.com/c/titanic/data. We can find on the Kaggle website the following precise description of the \"Titanic dataset\":\n",
    "\n",
    "  * Survived: survival,(0 = No; 1 = Yes);\n",
    "  * Pclass: passenger class, (1 = 1st; 2 = 2nd; 3 = 3rd);\n",
    "  * Name: name;\n",
    "  * Sex: sex;\n",
    "  * Age: age;\n",
    "  * Sibsp: number of siblings/spouses aboard;\n",
    "  * Parch: number of parents/children aboard;\n",
    "  * Ticket: ticket number;\n",
    "  * Fare: passenger fare;\n",
    "  * Cabin: cabin;\n",
    "  * Embarked: port of Embarkation, (C = Cherbourg; Q = Queenstown; S = Southampton);\n",
    "\n",
    "There are the following special notes, the variable 'Pclass' is a proxy for socio-economic status (SES), 1st ~ Upper; 2nd ~ Middle; 3rd ~ Lower; the variable 'Age' is expressed in years, but if Age less than One (1) is Fractional and if the Age is estimated, it is in the form xx.5; With respect to the family relation variables (i.e. sibsp and parch) some relations were ignored. The definitions used for the variable 'SibSp' and 'Parch' is the following:\n",
    "    \n",
    "   - Sibling: brother, sister, stepbrother, or stepsister of passenger aboard Titanic;\n",
    "   * Spouse: husband or wife of passenger aboard Titanic (mistresses and fiances ignored);\n",
    "   * Parent: mother or father of passenger aboard Titanic;\n",
    "   * Child: son, daughter, stepson, or stepdaughter of passenger aboard Titanic;\n",
    "\n",
    "Other family relatives excluded from this study include cousins, nephews/nieces, aunts/uncles, and in-laws.  Some children       travelled only with a nanny, therefore parch=0 for them.  As well, some travelled with very close friends or neighbors in a     village, however,the definitions do not support such relations.\n",
    "\n",
    "The variables that considered in the analysis are 'PassengerId', 'Survived', 'Name', 'Sex', 'Age', 'SibSp' and 'Parch'."
   ]
  },
  {
   "cell_type": "markdown",
   "metadata": {},
   "source": [
    "## Exploring Dataset"
   ]
  },
  {
   "cell_type": "code",
   "execution_count": 8,
   "metadata": {
    "collapsed": false,
    "scrolled": true
   },
   "outputs": [],
   "source": [
    "# loading libraries for analysis \n",
    "import pandas as pd\n",
    "import numpy as np\n",
    "import matplotlib.pyplot as plt\n",
    "%matplotlib inline"
   ]
  },
  {
   "cell_type": "code",
   "execution_count": 9,
   "metadata": {
    "collapsed": false,
    "scrolled": true
   },
   "outputs": [],
   "source": [
    "# Loading Titanic dataset\n",
    "df_titanic = pd.read_csv('titanic_data.csv')\n",
    "# Dropping columns of df_titanic DataFrame not neccessary for analysis\n",
    "df_titanic = df_titanic.drop([\"Pclass\", \"Ticket\",\"Fare\",\"Cabin\",\"Embarked\"], axis=1)"
   ]
  },
  {
   "cell_type": "markdown",
   "metadata": {},
   "source": [
    "### \"Titanic\" Dataset "
   ]
  },
  {
   "cell_type": "code",
   "execution_count": 10,
   "metadata": {
    "collapsed": false
   },
   "outputs": [
    {
     "name": "stdout",
     "output_type": "stream",
     "text": [
      "<class 'pandas.core.frame.DataFrame'>\n",
      "Int64Index: 891 entries, 0 to 890\n",
      "Data columns (total 7 columns):\n",
      "PassengerId    891 non-null int64\n",
      "Survived       891 non-null int64\n",
      "Name           891 non-null object\n",
      "Sex            891 non-null object\n",
      "Age            714 non-null float64\n",
      "SibSp          891 non-null int64\n",
      "Parch          891 non-null int64\n",
      "dtypes: float64(1), int64(4), object(2)\n",
      "memory usage: 55.7+ KB\n"
     ]
    }
   ],
   "source": [
    "# Applying 'info' method to visualize concise summary of the df_titanic DataFrame\n",
    "df_titanic.info()"
   ]
  },
  {
   "cell_type": "code",
   "execution_count": 11,
   "metadata": {
    "collapsed": false
   },
   "outputs": [
    {
     "data": {
      "text/html": [
       "<div>\n",
       "<table border=\"1\" class=\"dataframe\">\n",
       "  <thead>\n",
       "    <tr style=\"text-align: right;\">\n",
       "      <th></th>\n",
       "      <th>PassengerId</th>\n",
       "      <th>Survived</th>\n",
       "      <th>Name</th>\n",
       "      <th>Sex</th>\n",
       "      <th>Age</th>\n",
       "      <th>SibSp</th>\n",
       "      <th>Parch</th>\n",
       "    </tr>\n",
       "  </thead>\n",
       "  <tbody>\n",
       "    <tr>\n",
       "      <th>0</th>\n",
       "      <td>1</td>\n",
       "      <td>0</td>\n",
       "      <td>Braund, Mr. Owen Harris</td>\n",
       "      <td>male</td>\n",
       "      <td>22</td>\n",
       "      <td>1</td>\n",
       "      <td>0</td>\n",
       "    </tr>\n",
       "    <tr>\n",
       "      <th>1</th>\n",
       "      <td>2</td>\n",
       "      <td>1</td>\n",
       "      <td>Cumings, Mrs. John Bradley (Florence Briggs Th...</td>\n",
       "      <td>female</td>\n",
       "      <td>38</td>\n",
       "      <td>1</td>\n",
       "      <td>0</td>\n",
       "    </tr>\n",
       "    <tr>\n",
       "      <th>2</th>\n",
       "      <td>3</td>\n",
       "      <td>1</td>\n",
       "      <td>Heikkinen, Miss. Laina</td>\n",
       "      <td>female</td>\n",
       "      <td>26</td>\n",
       "      <td>0</td>\n",
       "      <td>0</td>\n",
       "    </tr>\n",
       "    <tr>\n",
       "      <th>3</th>\n",
       "      <td>4</td>\n",
       "      <td>1</td>\n",
       "      <td>Futrelle, Mrs. Jacques Heath (Lily May Peel)</td>\n",
       "      <td>female</td>\n",
       "      <td>35</td>\n",
       "      <td>1</td>\n",
       "      <td>0</td>\n",
       "    </tr>\n",
       "    <tr>\n",
       "      <th>4</th>\n",
       "      <td>5</td>\n",
       "      <td>0</td>\n",
       "      <td>Allen, Mr. William Henry</td>\n",
       "      <td>male</td>\n",
       "      <td>35</td>\n",
       "      <td>0</td>\n",
       "      <td>0</td>\n",
       "    </tr>\n",
       "  </tbody>\n",
       "</table>\n",
       "</div>"
      ],
      "text/plain": [
       "   PassengerId  Survived                                               Name  \\\n",
       "0            1         0                            Braund, Mr. Owen Harris   \n",
       "1            2         1  Cumings, Mrs. John Bradley (Florence Briggs Th...   \n",
       "2            3         1                             Heikkinen, Miss. Laina   \n",
       "3            4         1       Futrelle, Mrs. Jacques Heath (Lily May Peel)   \n",
       "4            5         0                           Allen, Mr. William Henry   \n",
       "\n",
       "      Sex  Age  SibSp  Parch  \n",
       "0    male   22      1      0  \n",
       "1  female   38      1      0  \n",
       "2  female   26      0      0  \n",
       "3  female   35      1      0  \n",
       "4    male   35      0      0  "
      ]
     },
     "execution_count": 11,
     "metadata": {},
     "output_type": "execute_result"
    }
   ],
   "source": [
    "# Applying 'head' method to visualize first five row of the df_titanic DataFrame \n",
    "df_titanic.head()"
   ]
  },
  {
   "cell_type": "code",
   "execution_count": 12,
   "metadata": {
    "collapsed": false,
    "scrolled": true
   },
   "outputs": [
    {
     "data": {
      "text/html": [
       "<div>\n",
       "<table border=\"1\" class=\"dataframe\">\n",
       "  <thead>\n",
       "    <tr style=\"text-align: right;\">\n",
       "      <th></th>\n",
       "      <th>PassengerId</th>\n",
       "      <th>Survived</th>\n",
       "      <th>Age</th>\n",
       "      <th>SibSp</th>\n",
       "      <th>Parch</th>\n",
       "    </tr>\n",
       "  </thead>\n",
       "  <tbody>\n",
       "    <tr>\n",
       "      <th>count</th>\n",
       "      <td>891.000000</td>\n",
       "      <td>891.000000</td>\n",
       "      <td>714.000000</td>\n",
       "      <td>891.000000</td>\n",
       "      <td>891.000000</td>\n",
       "    </tr>\n",
       "    <tr>\n",
       "      <th>mean</th>\n",
       "      <td>446.000000</td>\n",
       "      <td>0.383838</td>\n",
       "      <td>29.699118</td>\n",
       "      <td>0.523008</td>\n",
       "      <td>0.381594</td>\n",
       "    </tr>\n",
       "    <tr>\n",
       "      <th>std</th>\n",
       "      <td>257.353842</td>\n",
       "      <td>0.486592</td>\n",
       "      <td>14.526497</td>\n",
       "      <td>1.102743</td>\n",
       "      <td>0.806057</td>\n",
       "    </tr>\n",
       "    <tr>\n",
       "      <th>min</th>\n",
       "      <td>1.000000</td>\n",
       "      <td>0.000000</td>\n",
       "      <td>0.420000</td>\n",
       "      <td>0.000000</td>\n",
       "      <td>0.000000</td>\n",
       "    </tr>\n",
       "    <tr>\n",
       "      <th>25%</th>\n",
       "      <td>223.500000</td>\n",
       "      <td>0.000000</td>\n",
       "      <td>20.125000</td>\n",
       "      <td>0.000000</td>\n",
       "      <td>0.000000</td>\n",
       "    </tr>\n",
       "    <tr>\n",
       "      <th>50%</th>\n",
       "      <td>446.000000</td>\n",
       "      <td>0.000000</td>\n",
       "      <td>28.000000</td>\n",
       "      <td>0.000000</td>\n",
       "      <td>0.000000</td>\n",
       "    </tr>\n",
       "    <tr>\n",
       "      <th>75%</th>\n",
       "      <td>668.500000</td>\n",
       "      <td>1.000000</td>\n",
       "      <td>38.000000</td>\n",
       "      <td>1.000000</td>\n",
       "      <td>0.000000</td>\n",
       "    </tr>\n",
       "    <tr>\n",
       "      <th>max</th>\n",
       "      <td>891.000000</td>\n",
       "      <td>1.000000</td>\n",
       "      <td>80.000000</td>\n",
       "      <td>8.000000</td>\n",
       "      <td>6.000000</td>\n",
       "    </tr>\n",
       "  </tbody>\n",
       "</table>\n",
       "</div>"
      ],
      "text/plain": [
       "       PassengerId    Survived         Age       SibSp       Parch\n",
       "count   891.000000  891.000000  714.000000  891.000000  891.000000\n",
       "mean    446.000000    0.383838   29.699118    0.523008    0.381594\n",
       "std     257.353842    0.486592   14.526497    1.102743    0.806057\n",
       "min       1.000000    0.000000    0.420000    0.000000    0.000000\n",
       "25%     223.500000    0.000000   20.125000    0.000000    0.000000\n",
       "50%     446.000000    0.000000   28.000000    0.000000    0.000000\n",
       "75%     668.500000    1.000000   38.000000    1.000000    0.000000\n",
       "max     891.000000    1.000000   80.000000    8.000000    6.000000"
      ]
     },
     "execution_count": 12,
     "metadata": {},
     "output_type": "execute_result"
    }
   ],
   "source": [
    "# Applying 'describe' method for visualize various summary statistics of the variables \n",
    "df_titanic.describe()"
   ]
  },
  {
   "cell_type": "markdown",
   "metadata": {},
   "source": [
    "Looking the statistic of Titanic dataset above, the 'Age' variable has 714 observations, then we have 20% of missing values. In the investigation, it is necessary consider this fact and decide how to handle this values.  "
   ]
  },
  {
   "cell_type": "code",
   "execution_count": 13,
   "metadata": {
    "collapsed": true
   },
   "outputs": [],
   "source": [
    "# Creating 'grouped' function in which the data of the DataFrame are split into groups to aggregate the passengers, 'PassengerId', \n",
    "# based on one o more variables that interest, once this a done, to do counting for each group, using 'count' method \n",
    "def grouped (DataFrame,variables_groupby,variables_count):\n",
    "    df = DataFrame.groupby(variables_groupby,as_index=False)\n",
    "    dataframe = df.agg({variables_count:'count'})\n",
    "    return dataframe.rename(columns = {variables_count:'Number_of_Passenger'}) "
   ]
  },
  {
   "cell_type": "markdown",
   "metadata": {},
   "source": [
    "### Titanic Dataset :  'Sex'  "
   ]
  },
  {
   "cell_type": "markdown",
   "metadata": {
    "collapsed": true
   },
   "source": [
    "In the investigation we seek confirm on the fact \"Women and Children First\", the first thing to understand if the factor of gender of passenger is important for survival. We start to respond to the following questions, how many of were the 891 of the 2224 passengers and crew on board the Titanic male o female? How many of were the passengers and crew on board the Titanic  saved? How many of were male saved? and how many were female saved? "
   ]
  },
  {
   "cell_type": "code",
   "execution_count": 26,
   "metadata": {
    "collapsed": false
   },
   "outputs": [
    {
     "data": {
      "text/html": [
       "<div>\n",
       "<table border=\"1\" class=\"dataframe\">\n",
       "  <thead>\n",
       "    <tr style=\"text-align: right;\">\n",
       "      <th></th>\n",
       "      <th>Sex</th>\n",
       "      <th>Survived</th>\n",
       "      <th>Number_of_Passenger</th>\n",
       "    </tr>\n",
       "  </thead>\n",
       "  <tbody>\n",
       "    <tr>\n",
       "      <th>0</th>\n",
       "      <td>female</td>\n",
       "      <td>0</td>\n",
       "      <td>81</td>\n",
       "    </tr>\n",
       "    <tr>\n",
       "      <th>1</th>\n",
       "      <td>female</td>\n",
       "      <td>1</td>\n",
       "      <td>233</td>\n",
       "    </tr>\n",
       "    <tr>\n",
       "      <th>2</th>\n",
       "      <td>male</td>\n",
       "      <td>0</td>\n",
       "      <td>468</td>\n",
       "    </tr>\n",
       "    <tr>\n",
       "      <th>3</th>\n",
       "      <td>male</td>\n",
       "      <td>1</td>\n",
       "      <td>109</td>\n",
       "    </tr>\n",
       "  </tbody>\n",
       "</table>\n",
       "</div>"
      ],
      "text/plain": [
       "      Sex  Survived  Number_of_Passenger\n",
       "0  female         0                   81\n",
       "1  female         1                  233\n",
       "2    male         0                  468\n",
       "3    male         1                  109"
      ]
     },
     "execution_count": 26,
     "metadata": {},
     "output_type": "execute_result"
    }
   ],
   "source": [
    "# Applying 'grouped' function that create DataFrame that aggregate the passengers on the based Sex and Survived and count passengers \n",
    "DataFrame_sex_survived = grouped(df_titanic,['Sex','Survived'],'PassengerId')\n",
    "DataFrame_sex_survived"
   ]
  },
  {
   "cell_type": "code",
   "execution_count": 27,
   "metadata": {
    "collapsed": false,
    "scrolled": true
   },
   "outputs": [
    {
     "name": "stdout",
     "output_type": "stream",
     "text": [
      "Number of male passengers: 577\n",
      "Number of female passengers: 314\n"
     ]
    }
   ],
   "source": [
    "# Calculating the number of male and female \n",
    "total_male = DataFrame_sex_survived.Number_of_Passenger[2:4].sum()\n",
    "total_female = DataFrame_sex_survived.Number_of_Passenger[0:2].sum() \n",
    "\n",
    "print 'Number of male passengers:', total_male\n",
    "print 'Number of female passengers:', total_female"
   ]
  },
  {
   "cell_type": "code",
   "execution_count": 22,
   "metadata": {
    "collapsed": false,
    "scrolled": true
   },
   "outputs": [
    {
     "name": "stdout",
     "output_type": "stream",
     "text": [
      "Number of died passengers: 549\n",
      "Number of survived passengers: 342\n"
     ]
    }
   ],
   "source": [
    "# Calculating the number of survivors and dead \n",
    "total_survived = DataFrame_sex_survived.Number_of_Passenger[1] + DataFrame_sex_survived.Number_of_Passenger[3] \n",
    "total_died = DataFrame_sex_survived.Number_of_Passenger[0] + DataFrame_sex_survived.Number_of_Passenger[2] \n",
    "\n",
    "print 'Number of died passengers:', total_died \n",
    "print 'Number of survived passengers:', total_survived"
   ]
  },
  {
   "cell_type": "code",
   "execution_count": 23,
   "metadata": {
    "collapsed": false
   },
   "outputs": [
    {
     "data": {
      "image/png": "[encoded data removed]",
      "text/plain": [
       "<matplotlib.figure.Figure at 0x9c15ac8>"
      ]
     },
     "metadata": {},
     "output_type": "display_data"
    }
   ],
   "source": [
    "# Creating barplot that represented number of survivors and dead \n",
    "# Defining plot size in inches (width, height) \n",
    "fig = plt.figure(figsize=(14, 8))\n",
    "\n",
    "# Defining the x locations for the groups\n",
    "index = np.arange(0,2) \n",
    "\n",
    "# Ploting data\n",
    "died_survived_bar = plt.bar(index, [total_died,total_survived], width=0.5)\n",
    "\n",
    "# Defining color bar\n",
    "died_survived_bar[0].set_color('g')\n",
    "died_survived_bar[1].set_color('b'),\n",
    "\n",
    "# Configuring legend\n",
    "plt.legend( (died_survived_bar[0],died_survived_bar [1]), ('Died','Survived') )\n",
    "\n",
    "# Configuring X axes\n",
    "plt.xlim(-0.5,2)\n",
    "plt.xticks(index, ('',''))\n",
    "\n",
    "# Configuring  Y axes\n",
    "plt.ylim(0,600)\n",
    "plt.yticks(np.arange(0,600,100))\n",
    "\n",
    "# Labels\n",
    "plt.xlabel(\"\")\n",
    "plt.ylabel(\"Number of Passengers\", size=16)\n",
    "\n",
    "# Title\n",
    "plt.title(\"Number of Died and Survived\", size=16)\n",
    "\n",
    "# Showing plot\n",
    "plt.show()"
   ]
  },
  {
   "cell_type": "code",
   "execution_count": 28,
   "metadata": {
    "collapsed": false,
    "scrolled": true
   },
   "outputs": [
    {
     "name": "stdout",
     "output_type": "stream",
     "text": [
      "Number of male survived passengers: 109\n",
      "Number of male died passengers: 468\n",
      "Number of female survived passengers: 233\n",
      "Number of female died passengers: 81\n"
     ]
    }
   ],
   "source": [
    "# Calculating the number of survivors and dead passengers by gender\n",
    "total_survived_male = DataFrame_sex_survived['Number_of_Passenger'][3]\n",
    "total_died_male = DataFrame_sex_survived['Number_of_Passenger'][2]\n",
    "total_survived_female = DataFrame_sex_survived['Number_of_Passenger'][1]\n",
    "total_died_female = DataFrame_sex_survived['Number_of_Passenger'][0]\n",
    "\n",
    "print 'Number of male survived passengers:', total_survived_male\n",
    "print 'Number of male died passengers:', total_died_male \n",
    "print 'Number of female survived passengers:', total_survived_female\n",
    "print 'Number of female died passengers:', total_died_female "
   ]
  },
  {
   "cell_type": "code",
   "execution_count": 30,
   "metadata": {
    "collapsed": false
   },
   "outputs": [
    {
     "data": {
      "image/png": "[encoded data removed]",
      "text/plain": [
       "<matplotlib.figure.Figure at 0x9b2a160>"
      ]
     },
     "metadata": {},
     "output_type": "display_data"
    }
   ],
   "source": [
    "# Creating barplot that represented number of survivors and dead by Sex \n",
    "# Defining plot size in inches (width, height)\n",
    "fig = plt.figure(figsize=(14, 8))\n",
    "\n",
    "# Defining the x locations for the groups\n",
    "index = np.arange(0,2,1)\n",
    "\n",
    "# Ploting data\n",
    "died_bar = plt.bar(index, [total_died_female,total_died_male], width=0.35,color='g')\n",
    "survived_bar = plt.bar(index + 0.35, [total_survived_female,total_survived_male], width=0.35,color='b')\n",
    "\n",
    "# Configuring legend\n",
    "plt.legend( (died_bar,survived_bar), ('Died','Survived') )\n",
    "\n",
    "# Configuring X axes\n",
    "plt.xlim(-0.35,2)\n",
    "plt.xticks(index + 0.35, ('Female','Male'))\n",
    "\n",
    "# Configuring Y axes\n",
    "plt.ylim(0,500)\n",
    "plt.yticks(np.arange(0,500,100))\n",
    "\n",
    "# Labels\n",
    "plt.xlabel(\"Survived\", size=16)\n",
    "plt.ylabel(\"Number of Passengers\", size=16)\n",
    "\n",
    "# Title\n",
    "plt.title(\"Number of Died and Survived by Sex\", size=16)\n",
    "\n",
    "# Showing plot\n",
    "plt.show()"
   ]
  },
  {
   "cell_type": "markdown",
   "metadata": {},
   "source": [
    "The results give us the first confirm of the fact that is adopted the code \"Women and child first\", in fact the majority of the dead were male."
   ]
  },
  {
   "cell_type": "markdown",
   "metadata": {},
   "source": [
    "### Titanic Dataset : \"Age\" "
   ]
  },
  {
   "cell_type": "markdown",
   "metadata": {},
   "source": [
    "In order to find confirm on the code of conduct \"Women and Child First\", we consider the 'Age' variable . As already noted, the variable 'Age' has NaN values. We decide to use 'dropna' method to remove this values."
   ]
  },
  {
   "cell_type": "code",
   "execution_count": 31,
   "metadata": {
    "collapsed": false,
    "scrolled": true
   },
   "outputs": [],
   "source": [
    "# Removing the NaN values of 'Age' variable \n",
    "Age_dropna = df_titanic.Age.dropna()"
   ]
  },
  {
   "cell_type": "code",
   "execution_count": 33,
   "metadata": {
    "collapsed": false
   },
   "outputs": [
    {
     "data": {
      "image/png": "[encoded data removed]",
      "text/plain": [
       "<matplotlib.figure.Figure at 0xa318da0>"
      ]
     },
     "metadata": {},
     "output_type": "display_data"
    }
   ],
   "source": [
    "# Creating histogram that representation of the distribution of 'Age' variable \n",
    "# Defining plot size in inches (width, height) \n",
    "fig = plt.figure(figsize=(14, 8))\n",
    "\n",
    "# Ploting data\n",
    "plt.hist(Age_dropna,bins=80)\n",
    "\n",
    "# Labels\n",
    "plt.xlabel(\"Age\",size=16)\n",
    "plt.ylabel(\"Number of Passengers\",size=16)\n",
    "\n",
    "# Title\n",
    "plt.title(\"Distribution of 'Age' variables\",size=16)\n",
    "\n",
    "# Showing plot\n",
    "plt.show()"
   ]
  },
  {
   "cell_type": "markdown",
   "metadata": {},
   "source": [
    "From the histogram above, we see that the most of passengers on the titanic were between the ages of 17 and 40.   "
   ]
  },
  {
   "cell_type": "code",
   "execution_count": 34,
   "metadata": {
    "collapsed": false
   },
   "outputs": [],
   "source": [
    "# Creating series \" age of male passengers\" and \" age of female passengers\"\n",
    "male_age = df_titanic[\"Age\"][df_titanic.Sex == 'male'].dropna()\n",
    "female_age = df_titanic [\"Age\"][df_titanic.Sex == 'female'].dropna()"
   ]
  },
  {
   "cell_type": "code",
   "execution_count": 41,
   "metadata": {
    "collapsed": false
   },
   "outputs": [
    {
     "data": {
      "image/png": "[encoded data removed]",
      "text/plain": [
       "<matplotlib.figure.Figure at 0x992c390>"
      ]
     },
     "metadata": {},
     "output_type": "display_data"
    }
   ],
   "source": [
    "# Creating boxplot to analyze differences between ages among male passengers and female passengers.\n",
    "# Defining plot size in inches (width, height)\n",
    "fig = plt.figure(figsize=(14, 8))\n",
    "\n",
    "# Ploting data\n",
    "female_male_age_bp = plt.boxplot([female_age,male_age],patch_artist=True)\n",
    "\n",
    "# Configuring X axes\n",
    "plt.xticks([1,2],['Female', 'Male'], fontsize=12)\n",
    "\n",
    "# Configuring Y axes\n",
    "plt.yticks(np.arange(0,85,5))\n",
    "\n",
    "# Title\n",
    "plt.title(\"Age by Sex\", size=16)\n",
    "\n",
    "# Showing plot\n",
    "plt.show()"
   ]
  },
  {
   "cell_type": "code",
   "execution_count": 36,
   "metadata": {
    "collapsed": false,
    "scrolled": true
   },
   "outputs": [],
   "source": [
    "# Creating series \" age of the survived passengers\" and \" age of the died passengers\"\n",
    "survived_age = df_titanic[\"Age\"][df_titanic.Survived == 1 ].dropna()\n",
    "died_age = df_titanic [\"Age\"][df_titanic.Survived == 0 ].dropna()"
   ]
  },
  {
   "cell_type": "code",
   "execution_count": 40,
   "metadata": {
    "collapsed": false
   },
   "outputs": [
    {
     "data": {
      "image/png": "[encoded data removed]",
      "text/plain": [
       "<matplotlib.figure.Figure at 0x9fca860>"
      ]
     },
     "metadata": {},
     "output_type": "display_data"
    }
   ],
   "source": [
    "# Creating boxplot to analyze differences between ages among survived passengers and died passengers.\n",
    "# Define plot size in inches (width, height)\n",
    "fig = plt.figure(figsize=(14, 8))\n",
    "\n",
    "# Ploting data\n",
    "survived_bp = plt.boxplot([died_age,survived_age],patch_artist=True)\n",
    "\n",
    "# Configuring X axes\n",
    "plt.xticks([1,2],['Died', 'Survived'], fontsize=12)\n",
    "\n",
    "# Configuring Y axes\n",
    "plt.yticks(np.arange(0,85,5))\n",
    "\n",
    "# Title\n",
    "plt.title(\"Age by Survived\", size=16)\n",
    "\n",
    "# Showing plot\n",
    "plt.show()"
   ]
  },
  {
   "cell_type": "code",
   "execution_count": 38,
   "metadata": {
    "collapsed": false
   },
   "outputs": [],
   "source": [
    "# Creating series \"age of the survived male passengers\", \" age of the died male passengers\", \" age of the survived female \n",
    "# passengers\" and \" age of the died female passengers\"\n",
    "survived_male_age = df_titanic[\"Age\"][(df_titanic.Survived == 1) & (df_titanic.Sex == 'male')].dropna()\n",
    "died_male_age = df_titanic [\"Age\"][(df_titanic.Survived == 0) & (df_titanic.Sex == 'male')].dropna()\n",
    "survived_female_age = df_titanic[\"Age\"][(df_titanic.Survived == 1) & (df_titanic.Sex == 'female')].dropna()\n",
    "died_female_age = df_titanic [\"Age\"][(df_titanic.Survived == 0) & (df_titanic.Sex == 'female')].dropna()"
   ]
  },
  {
   "cell_type": "code",
   "execution_count": 39,
   "metadata": {
    "collapsed": false
   },
   "outputs": [
    {
     "data": {
      "image/png": "[encoded data removed]",
      "text/plain": [
       "<matplotlib.figure.Figure at 0x9ef70f0>"
      ]
     },
     "metadata": {},
     "output_type": "display_data"
    }
   ],
   "source": [
    "# Creating boxplot to analyze differences between ages among male passengers, survived and died, female passengers, survived and\n",
    "# died\n",
    "# Defining plot size in inches (width, height)\n",
    "fig = plt.figure(figsize=(14, 8))\n",
    "\n",
    "# Ploting data\n",
    "survived_bp = plt.boxplot([died_female_age ,survived_female_age, died_male_age,survived_male_age],patch_artist=True)\n",
    "\n",
    "# Configuring X axes\n",
    "plt.xticks([1,2,3,4],['Died Female','Survived Female', 'Died Male', 'Survived Male'], fontsize=12)\n",
    "\n",
    "# Configuring Y axes\n",
    "plt.yticks(np.arange(0,85,5))\n",
    "\n",
    "# Title\n",
    "plt.title(\"Age by Survived and Sex\", size=16)\n",
    "\n",
    "# Showing plot\n",
    "plt.show()"
   ]
  },
  {
   "cell_type": "markdown",
   "metadata": {},
   "source": [
    "We observe the three box plot reported above there are small difference between the distributions which are compare. But we can derive of the information. We see clearly from box plot that compare the age of who is female and who is male that the passengers older are male. From box plot that compare the age of who died and who is survived, the passengers older are died. When we compare died female, survived female, died male,survived male, we see that the died females are the younger, the died males died are older. It is necessary further investigation if the \"Women and children first\" is respected also for child and not only for women."
   ]
  },
  {
   "cell_type": "markdown",
   "metadata": {},
   "source": [
    "### Titanic Dataset : 'SibSp' and 'Parch'  "
   ]
  },
  {
   "cell_type": "markdown",
   "metadata": {
    "collapsed": false
   },
   "source": [
    "We procede to consider the 'SibSp' variable and 'Parch', the information that derive from this variables is if the passengers were alone or with family on titanic. This variables are closely connected with the fact if is adopted \"Women and children\", given that it is likely the children didn't travel alone.   "
   ]
  },
  {
   "cell_type": "code",
   "execution_count": 42,
   "metadata": {
    "collapsed": true
   },
   "outputs": [],
   "source": [
    "# Creating 'alone' function  that returns 'yes' if the numeric value is equal than 0 or 'no' if the numeric value is not equal \n",
    "# than 0    \n",
    "def alone(data):\n",
    "    if data == 0 :\n",
    "        return'yes'\n",
    "    else:\n",
    "        return 'no'"
   ]
  },
  {
   "cell_type": "code",
   "execution_count": 43,
   "metadata": {
    "collapsed": false
   },
   "outputs": [
    {
     "data": {
      "text/html": [
       "<div>\n",
       "<table border=\"1\" class=\"dataframe\">\n",
       "  <thead>\n",
       "    <tr style=\"text-align: right;\">\n",
       "      <th></th>\n",
       "      <th>PassengerId</th>\n",
       "      <th>Survived</th>\n",
       "      <th>Name</th>\n",
       "      <th>Sex</th>\n",
       "      <th>Age</th>\n",
       "      <th>SibSp</th>\n",
       "      <th>Parch</th>\n",
       "      <th>SibSp_Plus_Parch</th>\n",
       "    </tr>\n",
       "  </thead>\n",
       "  <tbody>\n",
       "    <tr>\n",
       "      <th>0</th>\n",
       "      <td>1</td>\n",
       "      <td>0</td>\n",
       "      <td>Braund, Mr. Owen Harris</td>\n",
       "      <td>male</td>\n",
       "      <td>22</td>\n",
       "      <td>1</td>\n",
       "      <td>0</td>\n",
       "      <td>1</td>\n",
       "    </tr>\n",
       "    <tr>\n",
       "      <th>1</th>\n",
       "      <td>2</td>\n",
       "      <td>1</td>\n",
       "      <td>Cumings, Mrs. John Bradley (Florence Briggs Th...</td>\n",
       "      <td>female</td>\n",
       "      <td>38</td>\n",
       "      <td>1</td>\n",
       "      <td>0</td>\n",
       "      <td>1</td>\n",
       "    </tr>\n",
       "    <tr>\n",
       "      <th>2</th>\n",
       "      <td>3</td>\n",
       "      <td>1</td>\n",
       "      <td>Heikkinen, Miss. Laina</td>\n",
       "      <td>female</td>\n",
       "      <td>26</td>\n",
       "      <td>0</td>\n",
       "      <td>0</td>\n",
       "      <td>0</td>\n",
       "    </tr>\n",
       "    <tr>\n",
       "      <th>3</th>\n",
       "      <td>4</td>\n",
       "      <td>1</td>\n",
       "      <td>Futrelle, Mrs. Jacques Heath (Lily May Peel)</td>\n",
       "      <td>female</td>\n",
       "      <td>35</td>\n",
       "      <td>1</td>\n",
       "      <td>0</td>\n",
       "      <td>1</td>\n",
       "    </tr>\n",
       "    <tr>\n",
       "      <th>4</th>\n",
       "      <td>5</td>\n",
       "      <td>0</td>\n",
       "      <td>Allen, Mr. William Henry</td>\n",
       "      <td>male</td>\n",
       "      <td>35</td>\n",
       "      <td>0</td>\n",
       "      <td>0</td>\n",
       "      <td>0</td>\n",
       "    </tr>\n",
       "  </tbody>\n",
       "</table>\n",
       "</div>"
      ],
      "text/plain": [
       "   PassengerId  Survived                                               Name  \\\n",
       "0            1         0                            Braund, Mr. Owen Harris   \n",
       "1            2         1  Cumings, Mrs. John Bradley (Florence Briggs Th...   \n",
       "2            3         1                             Heikkinen, Miss. Laina   \n",
       "3            4         1       Futrelle, Mrs. Jacques Heath (Lily May Peel)   \n",
       "4            5         0                           Allen, Mr. William Henry   \n",
       "\n",
       "      Sex  Age  SibSp  Parch  SibSp_Plus_Parch  \n",
       "0    male   22      1      0                 1  \n",
       "1  female   38      1      0                 1  \n",
       "2  female   26      0      0                 0  \n",
       "3  female   35      1      0                 1  \n",
       "4    male   35      0      0                 0  "
      ]
     },
     "execution_count": 43,
     "metadata": {},
     "output_type": "execute_result"
    }
   ],
   "source": [
    "# Creating new variable 'SibSp_Plus_Parch', adding column to the df_titanic DataFrame, which is giving from sum of the values of \n",
    "# 'SibSp' variable and 'Parch' variable.\n",
    "df_titanic['SibSp_Plus_Parch'] = df_titanic.SibSp + df_titanic.Parch\n",
    "# Applying head module for visualize first five row of the df_titanic DataFrame with new column'SibSp_Plus_Parch' \n",
    "df_titanic.head()"
   ]
  },
  {
   "cell_type": "code",
   "execution_count": 44,
   "metadata": {
    "collapsed": false
   },
   "outputs": [
    {
     "data": {
      "text/html": [
       "<div>\n",
       "<table border=\"1\" class=\"dataframe\">\n",
       "  <thead>\n",
       "    <tr style=\"text-align: right;\">\n",
       "      <th></th>\n",
       "      <th>PassengerId</th>\n",
       "      <th>Survived</th>\n",
       "      <th>Name</th>\n",
       "      <th>Sex</th>\n",
       "      <th>Age</th>\n",
       "      <th>SibSp</th>\n",
       "      <th>Parch</th>\n",
       "      <th>SibSp_Plus_Parch</th>\n",
       "      <th>SibSp_Plus_Parch_Alone</th>\n",
       "    </tr>\n",
       "  </thead>\n",
       "  <tbody>\n",
       "    <tr>\n",
       "      <th>0</th>\n",
       "      <td>1</td>\n",
       "      <td>0</td>\n",
       "      <td>Braund, Mr. Owen Harris</td>\n",
       "      <td>male</td>\n",
       "      <td>22</td>\n",
       "      <td>1</td>\n",
       "      <td>0</td>\n",
       "      <td>1</td>\n",
       "      <td>no</td>\n",
       "    </tr>\n",
       "    <tr>\n",
       "      <th>1</th>\n",
       "      <td>2</td>\n",
       "      <td>1</td>\n",
       "      <td>Cumings, Mrs. John Bradley (Florence Briggs Th...</td>\n",
       "      <td>female</td>\n",
       "      <td>38</td>\n",
       "      <td>1</td>\n",
       "      <td>0</td>\n",
       "      <td>1</td>\n",
       "      <td>no</td>\n",
       "    </tr>\n",
       "    <tr>\n",
       "      <th>2</th>\n",
       "      <td>3</td>\n",
       "      <td>1</td>\n",
       "      <td>Heikkinen, Miss. Laina</td>\n",
       "      <td>female</td>\n",
       "      <td>26</td>\n",
       "      <td>0</td>\n",
       "      <td>0</td>\n",
       "      <td>0</td>\n",
       "      <td>yes</td>\n",
       "    </tr>\n",
       "    <tr>\n",
       "      <th>3</th>\n",
       "      <td>4</td>\n",
       "      <td>1</td>\n",
       "      <td>Futrelle, Mrs. Jacques Heath (Lily May Peel)</td>\n",
       "      <td>female</td>\n",
       "      <td>35</td>\n",
       "      <td>1</td>\n",
       "      <td>0</td>\n",
       "      <td>1</td>\n",
       "      <td>no</td>\n",
       "    </tr>\n",
       "    <tr>\n",
       "      <th>4</th>\n",
       "      <td>5</td>\n",
       "      <td>0</td>\n",
       "      <td>Allen, Mr. William Henry</td>\n",
       "      <td>male</td>\n",
       "      <td>35</td>\n",
       "      <td>0</td>\n",
       "      <td>0</td>\n",
       "      <td>0</td>\n",
       "      <td>yes</td>\n",
       "    </tr>\n",
       "  </tbody>\n",
       "</table>\n",
       "</div>"
      ],
      "text/plain": [
       "   PassengerId  Survived                                               Name  \\\n",
       "0            1         0                            Braund, Mr. Owen Harris   \n",
       "1            2         1  Cumings, Mrs. John Bradley (Florence Briggs Th...   \n",
       "2            3         1                             Heikkinen, Miss. Laina   \n",
       "3            4         1       Futrelle, Mrs. Jacques Heath (Lily May Peel)   \n",
       "4            5         0                           Allen, Mr. William Henry   \n",
       "\n",
       "      Sex  Age  SibSp  Parch  SibSp_Plus_Parch SibSp_Plus_Parch_Alone  \n",
       "0    male   22      1      0                 1                     no  \n",
       "1  female   38      1      0                 1                     no  \n",
       "2  female   26      0      0                 0                    yes  \n",
       "3  female   35      1      0                 1                     no  \n",
       "4    male   35      0      0                 0                    yes  "
      ]
     },
     "execution_count": 44,
     "metadata": {},
     "output_type": "execute_result"
    }
   ],
   "source": [
    "# Applying function 'alone' to the 'SibSp_Plus_Parch' column that create new column 'SibSp_Plus_Parch_Alone'\n",
    "df_titanic['SibSp_Plus_Parch_Alone'] = df_titanic.SibSp_Plus_Parch.apply(alone)\n",
    "# Applying head module for visualize first five row of the df_titanic DataFrame with new column 'SibSp_Plus_Parch_Alone'\n",
    "df_titanic.head()"
   ]
  },
  {
   "cell_type": "code",
   "execution_count": 45,
   "metadata": {
    "collapsed": false
   },
   "outputs": [
    {
     "data": {
      "text/html": [
       "<div>\n",
       "<table border=\"1\" class=\"dataframe\">\n",
       "  <thead>\n",
       "    <tr style=\"text-align: right;\">\n",
       "      <th></th>\n",
       "      <th>SibSp_Plus_Parch_Alone</th>\n",
       "      <th>Survived</th>\n",
       "      <th>Sex</th>\n",
       "      <th>Number_of_Passenger</th>\n",
       "    </tr>\n",
       "  </thead>\n",
       "  <tbody>\n",
       "    <tr>\n",
       "      <th>0</th>\n",
       "      <td>no</td>\n",
       "      <td>0</td>\n",
       "      <td>female</td>\n",
       "      <td>54</td>\n",
       "    </tr>\n",
       "    <tr>\n",
       "      <th>1</th>\n",
       "      <td>no</td>\n",
       "      <td>0</td>\n",
       "      <td>male</td>\n",
       "      <td>121</td>\n",
       "    </tr>\n",
       "    <tr>\n",
       "      <th>2</th>\n",
       "      <td>no</td>\n",
       "      <td>1</td>\n",
       "      <td>female</td>\n",
       "      <td>134</td>\n",
       "    </tr>\n",
       "    <tr>\n",
       "      <th>3</th>\n",
       "      <td>no</td>\n",
       "      <td>1</td>\n",
       "      <td>male</td>\n",
       "      <td>45</td>\n",
       "    </tr>\n",
       "    <tr>\n",
       "      <th>4</th>\n",
       "      <td>yes</td>\n",
       "      <td>0</td>\n",
       "      <td>female</td>\n",
       "      <td>27</td>\n",
       "    </tr>\n",
       "    <tr>\n",
       "      <th>5</th>\n",
       "      <td>yes</td>\n",
       "      <td>0</td>\n",
       "      <td>male</td>\n",
       "      <td>347</td>\n",
       "    </tr>\n",
       "    <tr>\n",
       "      <th>6</th>\n",
       "      <td>yes</td>\n",
       "      <td>1</td>\n",
       "      <td>female</td>\n",
       "      <td>99</td>\n",
       "    </tr>\n",
       "    <tr>\n",
       "      <th>7</th>\n",
       "      <td>yes</td>\n",
       "      <td>1</td>\n",
       "      <td>male</td>\n",
       "      <td>64</td>\n",
       "    </tr>\n",
       "  </tbody>\n",
       "</table>\n",
       "</div>"
      ],
      "text/plain": [
       "  SibSp_Plus_Parch_Alone  Survived     Sex  Number_of_Passenger\n",
       "0                     no         0  female                   54\n",
       "1                     no         0    male                  121\n",
       "2                     no         1  female                  134\n",
       "3                     no         1    male                   45\n",
       "4                    yes         0  female                   27\n",
       "5                    yes         0    male                  347\n",
       "6                    yes         1  female                   99\n",
       "7                    yes         1    male                   64"
      ]
     },
     "execution_count": 45,
     "metadata": {},
     "output_type": "execute_result"
    }
   ],
   "source": [
    "# Applying function 'grouped' that create DataFrame that aggregate the passengers on the based 'SibSp_Plus_Parch_Alone' variable, \n",
    "# 'Survived' variable and 'Sex' variable, and count passengers.\n",
    "DataFrame_SibSp_Plus_Parch_Survived_Sex = grouped(df_titanic,['SibSp_Plus_Parch_Alone','Survived','Sex'],'PassengerId')\n",
    "DataFrame_SibSp_Plus_Parch_Survived_Sex"
   ]
  },
  {
   "cell_type": "code",
   "execution_count": 46,
   "metadata": {
    "collapsed": false
   },
   "outputs": [
    {
     "name": "stdout",
     "output_type": "stream",
     "text": [
      "Number of survived alone : 163\n",
      "Number of died alone: 374\n",
      "Number of survived no alone: 179\n",
      "Number of died no alone: 175\n"
     ]
    }
   ],
   "source": [
    "# Calculating the number of survivors,alone and no alone,and dead,alone and no alone \n",
    "total_survived_alone = DataFrame_SibSp_Plus_Parch_Survived_Sex.Number_of_Passenger[6:8].sum()\n",
    "total_died_alone = DataFrame_SibSp_Plus_Parch_Survived_Sex.Number_of_Passenger[4:6].sum()\n",
    "total_survived_no_alone = DataFrame_SibSp_Plus_Parch_Survived_Sex.Number_of_Passenger[2:4].sum()\n",
    "total_died_no_alone = DataFrame_SibSp_Plus_Parch_Survived_Sex.Number_of_Passenger[0:2].sum()\n",
    "\n",
    "print 'Number of survived alone :', total_survived_alone\n",
    "print 'Number of died alone:', total_died_alone\n",
    "print 'Number of survived no alone:', total_survived_no_alone \n",
    "print 'Number of died no alone:', total_died_no_alone"
   ]
  },
  {
   "cell_type": "code",
   "execution_count": 48,
   "metadata": {
    "collapsed": false
   },
   "outputs": [
    {
     "data": {
      "image/png": "[encoded data removed]",
      "text/plain": [
       "<matplotlib.figure.Figure at 0x9a1e358>"
      ]
     },
     "metadata": {},
     "output_type": "display_data"
    }
   ],
   "source": [
    "# Creating barplot that represented number of survivors and dead by 'SibSp_Plus_Parch_Alone' variable\n",
    "# Defining plot size in inches (width, height)\n",
    "fig = plt.figure(figsize=(14, 8))\n",
    "\n",
    "# Defining the x locations for the groups\n",
    "index = np.arange(0,2,1)\n",
    "\n",
    "# Ploting data\n",
    "died_bar = plt.bar(index, [total_died_alone,total_died_no_alone], width = 0.35,color='g')\n",
    "survived_bar = plt.bar(index + 0.35, [total_survived_alone, total_survived_no_alone ], width = 0.35,color='b')\n",
    "\n",
    "# Configuring legend\n",
    "plt.legend( (died_bar,survived_bar), ('Died','Survived') )\n",
    "\n",
    "# Configuring X axes\n",
    "plt.xlim(-0.35,2)\n",
    "plt.xticks(index + 0.35, ('Alone','No Alone'))\n",
    "\n",
    "# Configuring  Y axes\n",
    "plt.ylim(0,450)\n",
    "plt.yticks(np.arange(0,450,100))\n",
    "\n",
    "# Labels\n",
    "plt.xlabel(\"Survived\", size=16)\n",
    "plt.ylabel(\"Number of Passengers\", size=16)\n",
    "\n",
    "# Title\n",
    "plt.title(\"Number of Died and Survived by SibSp_Plus_Parch_Alone\" , size=16)\n",
    "\n",
    "# Showing plot\n",
    "plt.show()"
   ]
  },
  {
   "cell_type": "code",
   "execution_count": 51,
   "metadata": {
    "collapsed": false
   },
   "outputs": [
    {
     "name": "stdout",
     "output_type": "stream",
     "text": [
      "Number of female alone: 126\n",
      "Number of male alone : 411\n",
      "Number of female no alone : 188\n",
      "Number of male no alone: 166\n"
     ]
    }
   ],
   "source": [
    "# Calculating the number of female,alone and no alone,and male,alone and no alone \n",
    "total_female_alone = DataFrame_SibSp_Plus_Parch_Survived_Sex.Number_of_Passenger[4] + DataFrame_SibSp_Plus_Parch_Survived_Sex.Number_of_Passenger[6]\n",
    "total_male_alone = DataFrame_SibSp_Plus_Parch_Survived_Sex.Number_of_Passenger[5] + DataFrame_SibSp_Plus_Parch_Survived_Sex.Number_of_Passenger[7]\n",
    "total_female_no_alone = DataFrame_SibSp_Plus_Parch_Survived_Sex.Number_of_Passenger[0] + DataFrame_SibSp_Plus_Parch_Survived_Sex.Number_of_Passenger[2]\n",
    "total_male_no_alone = DataFrame_SibSp_Plus_Parch_Survived_Sex.Number_of_Passenger[1] + DataFrame_SibSp_Plus_Parch_Survived_Sex.Number_of_Passenger[3] \n",
    "                    \n",
    "print 'Number of female alone:', total_female_alone \n",
    "print 'Number of male alone :', total_male_alone\n",
    "print 'Number of female no alone :', total_female_no_alone \n",
    "print 'Number of male no alone:', total_male_no_alone "
   ]
  },
  {
   "cell_type": "code",
   "execution_count": 52,
   "metadata": {
    "collapsed": false
   },
   "outputs": [
    {
     "data": {
      "image/png": "[encoded data removed]",
      "text/plain": [
       "<matplotlib.figure.Figure at 0xa364438>"
      ]
     },
     "metadata": {},
     "output_type": "display_data"
    }
   ],
   "source": [
    "# Creating barplot that represented number of female and male by 'SibSp_Plus_Parch_Alone' variable\n",
    "# Defining plot size in inches (width, height)\n",
    "fig = plt.figure(figsize=(14, 8))\n",
    "\n",
    "# Defining the x locations for the groups\n",
    "index = np.arange(0,2,1)\n",
    "\n",
    "# Plotting data\n",
    "alone_bar = plt.bar(index, [total_female_alone,total_male_alone], width = 0.35,color='g')\n",
    "no_alone_bar = plt.bar(index + 0.35, [total_female_no_alone, total_male_no_alone ], width = 0.35,color='b')\n",
    "\n",
    "# Configuring legend\n",
    "plt.legend( (alone_bar,no_alone_bar), ('Alone','No Alone') )\n",
    "\n",
    "# Configuring X axes\n",
    "plt.xlim(-0.35,2)\n",
    "plt.xticks(index + 0.35, ('Female','Male'))\n",
    "\n",
    "# Configuring Y axes\n",
    "plt.ylim(0,500)\n",
    "plt.yticks(np.arange(0,500,100))\n",
    "\n",
    "# Labels\n",
    "plt.xlabel(\"Alone\", size=16)\n",
    "plt.ylabel(\"Number of Passengers\", size=16)\n",
    "\n",
    "# Title\n",
    "plt.title(\"Number of Alone and No Alone Passengers by Sex variable\" , size=16)\n",
    "\n",
    "# Show plot\n",
    "plt.show()"
   ]
  },
  {
   "cell_type": "markdown",
   "metadata": {},
   "source": [
    "From figures above, we see that the majority of the dead were alone. This is tightly connected of the fact that the majority  passengers alone on titanic were male.   "
   ]
  },
  {
   "cell_type": "markdown",
   "metadata": {},
   "source": [
    "### Titanic Dataset : Children "
   ]
  },
  {
   "cell_type": "markdown",
   "metadata": {},
   "source": [
    "To determine how many passengers were considered children, we analysis the age of the passengers alone and those with family. "
   ]
  },
  {
   "cell_type": "code",
   "execution_count": 53,
   "metadata": {
    "collapsed": false
   },
   "outputs": [
    {
     "data": {
      "text/html": [
       "<div>\n",
       "<table border=\"1\" class=\"dataframe\">\n",
       "  <thead>\n",
       "    <tr style=\"text-align: right;\">\n",
       "      <th></th>\n",
       "      <th>PassengerId</th>\n",
       "      <th>Survived</th>\n",
       "      <th>Name</th>\n",
       "      <th>Sex</th>\n",
       "      <th>Age</th>\n",
       "      <th>SibSp</th>\n",
       "      <th>Parch</th>\n",
       "      <th>SibSp_Plus_Parch</th>\n",
       "      <th>SibSp_Plus_Parch_Alone</th>\n",
       "      <th>AgeRound</th>\n",
       "    </tr>\n",
       "  </thead>\n",
       "  <tbody>\n",
       "    <tr>\n",
       "      <th>0</th>\n",
       "      <td>1</td>\n",
       "      <td>0</td>\n",
       "      <td>Braund, Mr. Owen Harris</td>\n",
       "      <td>male</td>\n",
       "      <td>22</td>\n",
       "      <td>1</td>\n",
       "      <td>0</td>\n",
       "      <td>1</td>\n",
       "      <td>no</td>\n",
       "      <td>22</td>\n",
       "    </tr>\n",
       "    <tr>\n",
       "      <th>1</th>\n",
       "      <td>2</td>\n",
       "      <td>1</td>\n",
       "      <td>Cumings, Mrs. John Bradley (Florence Briggs Th...</td>\n",
       "      <td>female</td>\n",
       "      <td>38</td>\n",
       "      <td>1</td>\n",
       "      <td>0</td>\n",
       "      <td>1</td>\n",
       "      <td>no</td>\n",
       "      <td>38</td>\n",
       "    </tr>\n",
       "    <tr>\n",
       "      <th>2</th>\n",
       "      <td>3</td>\n",
       "      <td>1</td>\n",
       "      <td>Heikkinen, Miss. Laina</td>\n",
       "      <td>female</td>\n",
       "      <td>26</td>\n",
       "      <td>0</td>\n",
       "      <td>0</td>\n",
       "      <td>0</td>\n",
       "      <td>yes</td>\n",
       "      <td>26</td>\n",
       "    </tr>\n",
       "    <tr>\n",
       "      <th>3</th>\n",
       "      <td>4</td>\n",
       "      <td>1</td>\n",
       "      <td>Futrelle, Mrs. Jacques Heath (Lily May Peel)</td>\n",
       "      <td>female</td>\n",
       "      <td>35</td>\n",
       "      <td>1</td>\n",
       "      <td>0</td>\n",
       "      <td>1</td>\n",
       "      <td>no</td>\n",
       "      <td>35</td>\n",
       "    </tr>\n",
       "    <tr>\n",
       "      <th>4</th>\n",
       "      <td>5</td>\n",
       "      <td>0</td>\n",
       "      <td>Allen, Mr. William Henry</td>\n",
       "      <td>male</td>\n",
       "      <td>35</td>\n",
       "      <td>0</td>\n",
       "      <td>0</td>\n",
       "      <td>0</td>\n",
       "      <td>yes</td>\n",
       "      <td>35</td>\n",
       "    </tr>\n",
       "  </tbody>\n",
       "</table>\n",
       "</div>"
      ],
      "text/plain": [
       "   PassengerId  Survived                                               Name  \\\n",
       "0            1         0                            Braund, Mr. Owen Harris   \n",
       "1            2         1  Cumings, Mrs. John Bradley (Florence Briggs Th...   \n",
       "2            3         1                             Heikkinen, Miss. Laina   \n",
       "3            4         1       Futrelle, Mrs. Jacques Heath (Lily May Peel)   \n",
       "4            5         0                           Allen, Mr. William Henry   \n",
       "\n",
       "      Sex  Age  SibSp  Parch  SibSp_Plus_Parch SibSp_Plus_Parch_Alone  \\\n",
       "0    male   22      1      0                 1                     no   \n",
       "1  female   38      1      0                 1                     no   \n",
       "2  female   26      0      0                 0                    yes   \n",
       "3  female   35      1      0                 1                     no   \n",
       "4    male   35      0      0                 0                    yes   \n",
       "\n",
       "   AgeRound  \n",
       "0        22  \n",
       "1        38  \n",
       "2        26  \n",
       "3        35  \n",
       "4        35  "
      ]
     },
     "execution_count": 53,
     "metadata": {},
     "output_type": "execute_result"
    }
   ],
   "source": [
    "# Creating new variable 'AgeRound', adding column to the df_titanic DataFrame, which is given by application 'round' module to \n",
    "# 'Age' column\n",
    "df_titanic['AgeRound'] = df_titanic[\"Age\"].round()\n",
    "# Applying head module for visualize first five row of the df_titanic DataFrame with new column 'AgeRound'\n",
    "df_titanic.head()"
   ]
  },
  {
   "cell_type": "code",
   "execution_count": 54,
   "metadata": {
    "collapsed": false
   },
   "outputs": [
    {
     "data": {
      "text/html": [
       "<div>\n",
       "<table border=\"1\" class=\"dataframe\">\n",
       "  <thead>\n",
       "    <tr style=\"text-align: right;\">\n",
       "      <th></th>\n",
       "      <th>PassengerId</th>\n",
       "      <th>Survived</th>\n",
       "      <th>Name</th>\n",
       "      <th>Sex</th>\n",
       "      <th>Age</th>\n",
       "      <th>SibSp</th>\n",
       "      <th>Parch</th>\n",
       "      <th>SibSp_Plus_Parch</th>\n",
       "      <th>SibSp_Plus_Parch_Alone</th>\n",
       "      <th>AgeRound</th>\n",
       "    </tr>\n",
       "  </thead>\n",
       "  <tbody>\n",
       "    <tr>\n",
       "      <th>0</th>\n",
       "      <td>1</td>\n",
       "      <td>0</td>\n",
       "      <td>Braund, Mr. Owen Harris</td>\n",
       "      <td>male</td>\n",
       "      <td>22</td>\n",
       "      <td>1</td>\n",
       "      <td>0</td>\n",
       "      <td>1</td>\n",
       "      <td>no</td>\n",
       "      <td>22</td>\n",
       "    </tr>\n",
       "    <tr>\n",
       "      <th>1</th>\n",
       "      <td>2</td>\n",
       "      <td>1</td>\n",
       "      <td>Cumings, Mrs. John Bradley (Florence Briggs Th...</td>\n",
       "      <td>female</td>\n",
       "      <td>38</td>\n",
       "      <td>1</td>\n",
       "      <td>0</td>\n",
       "      <td>1</td>\n",
       "      <td>no</td>\n",
       "      <td>38</td>\n",
       "    </tr>\n",
       "    <tr>\n",
       "      <th>3</th>\n",
       "      <td>4</td>\n",
       "      <td>1</td>\n",
       "      <td>Futrelle, Mrs. Jacques Heath (Lily May Peel)</td>\n",
       "      <td>female</td>\n",
       "      <td>35</td>\n",
       "      <td>1</td>\n",
       "      <td>0</td>\n",
       "      <td>1</td>\n",
       "      <td>no</td>\n",
       "      <td>35</td>\n",
       "    </tr>\n",
       "    <tr>\n",
       "      <th>7</th>\n",
       "      <td>8</td>\n",
       "      <td>0</td>\n",
       "      <td>Palsson, Master. Gosta Leonard</td>\n",
       "      <td>male</td>\n",
       "      <td>2</td>\n",
       "      <td>3</td>\n",
       "      <td>1</td>\n",
       "      <td>4</td>\n",
       "      <td>no</td>\n",
       "      <td>2</td>\n",
       "    </tr>\n",
       "    <tr>\n",
       "      <th>8</th>\n",
       "      <td>9</td>\n",
       "      <td>1</td>\n",
       "      <td>Johnson, Mrs. Oscar W (Elisabeth Vilhelmina Berg)</td>\n",
       "      <td>female</td>\n",
       "      <td>27</td>\n",
       "      <td>0</td>\n",
       "      <td>2</td>\n",
       "      <td>2</td>\n",
       "      <td>no</td>\n",
       "      <td>27</td>\n",
       "    </tr>\n",
       "  </tbody>\n",
       "</table>\n",
       "</div>"
      ],
      "text/plain": [
       "   PassengerId  Survived                                               Name  \\\n",
       "0            1         0                            Braund, Mr. Owen Harris   \n",
       "1            2         1  Cumings, Mrs. John Bradley (Florence Briggs Th...   \n",
       "3            4         1       Futrelle, Mrs. Jacques Heath (Lily May Peel)   \n",
       "7            8         0                     Palsson, Master. Gosta Leonard   \n",
       "8            9         1  Johnson, Mrs. Oscar W (Elisabeth Vilhelmina Berg)   \n",
       "\n",
       "      Sex  Age  SibSp  Parch  SibSp_Plus_Parch SibSp_Plus_Parch_Alone  \\\n",
       "0    male   22      1      0                 1                     no   \n",
       "1  female   38      1      0                 1                     no   \n",
       "3  female   35      1      0                 1                     no   \n",
       "7    male    2      3      1                 4                     no   \n",
       "8  female   27      0      2                 2                     no   \n",
       "\n",
       "   AgeRound  \n",
       "0        22  \n",
       "1        38  \n",
       "3        35  \n",
       "7         2  \n",
       "8        27  "
      ]
     },
     "execution_count": 54,
     "metadata": {},
     "output_type": "execute_result"
    }
   ],
   "source": [
    "# Creating DataFrame that contains data on alone passengers.\n",
    "DataFrame_No_Alone =  df_titanic[(df_titanic.SibSp_Plus_Parch_Alone == 'no') ]\n",
    "# Applying head module for visualize first five row of the df_titanic DataFrame with new column 'AgeRound'\n",
    "DataFrame_No_Alone.head()"
   ]
  },
  {
   "cell_type": "code",
   "execution_count": 55,
   "metadata": {
    "collapsed": false
   },
   "outputs": [
    {
     "data": {
      "text/html": [
       "<div>\n",
       "<table border=\"1\" class=\"dataframe\">\n",
       "  <thead>\n",
       "    <tr style=\"text-align: right;\">\n",
       "      <th></th>\n",
       "      <th>PassengerId</th>\n",
       "      <th>Survived</th>\n",
       "      <th>Name</th>\n",
       "      <th>Sex</th>\n",
       "      <th>Age</th>\n",
       "      <th>SibSp</th>\n",
       "      <th>Parch</th>\n",
       "      <th>SibSp_Plus_Parch</th>\n",
       "      <th>SibSp_Plus_Parch_Alone</th>\n",
       "      <th>AgeRound</th>\n",
       "    </tr>\n",
       "  </thead>\n",
       "  <tbody>\n",
       "    <tr>\n",
       "      <th>0</th>\n",
       "      <td>1</td>\n",
       "      <td>0</td>\n",
       "      <td>Braund, Mr. Owen Harris</td>\n",
       "      <td>male</td>\n",
       "      <td>22</td>\n",
       "      <td>1</td>\n",
       "      <td>0</td>\n",
       "      <td>1</td>\n",
       "      <td>no</td>\n",
       "      <td>22</td>\n",
       "    </tr>\n",
       "    <tr>\n",
       "      <th>1</th>\n",
       "      <td>2</td>\n",
       "      <td>1</td>\n",
       "      <td>Cumings, Mrs. John Bradley (Florence Briggs Th...</td>\n",
       "      <td>female</td>\n",
       "      <td>38</td>\n",
       "      <td>1</td>\n",
       "      <td>0</td>\n",
       "      <td>1</td>\n",
       "      <td>no</td>\n",
       "      <td>38</td>\n",
       "    </tr>\n",
       "    <tr>\n",
       "      <th>3</th>\n",
       "      <td>4</td>\n",
       "      <td>1</td>\n",
       "      <td>Futrelle, Mrs. Jacques Heath (Lily May Peel)</td>\n",
       "      <td>female</td>\n",
       "      <td>35</td>\n",
       "      <td>1</td>\n",
       "      <td>0</td>\n",
       "      <td>1</td>\n",
       "      <td>no</td>\n",
       "      <td>35</td>\n",
       "    </tr>\n",
       "    <tr>\n",
       "      <th>7</th>\n",
       "      <td>8</td>\n",
       "      <td>0</td>\n",
       "      <td>Palsson, Master. Gosta Leonard</td>\n",
       "      <td>male</td>\n",
       "      <td>2</td>\n",
       "      <td>3</td>\n",
       "      <td>1</td>\n",
       "      <td>4</td>\n",
       "      <td>no</td>\n",
       "      <td>2</td>\n",
       "    </tr>\n",
       "    <tr>\n",
       "      <th>8</th>\n",
       "      <td>9</td>\n",
       "      <td>1</td>\n",
       "      <td>Johnson, Mrs. Oscar W (Elisabeth Vilhelmina Berg)</td>\n",
       "      <td>female</td>\n",
       "      <td>27</td>\n",
       "      <td>0</td>\n",
       "      <td>2</td>\n",
       "      <td>2</td>\n",
       "      <td>no</td>\n",
       "      <td>27</td>\n",
       "    </tr>\n",
       "  </tbody>\n",
       "</table>\n",
       "</div>"
      ],
      "text/plain": [
       "   PassengerId  Survived                                               Name  \\\n",
       "0            1         0                            Braund, Mr. Owen Harris   \n",
       "1            2         1  Cumings, Mrs. John Bradley (Florence Briggs Th...   \n",
       "3            4         1       Futrelle, Mrs. Jacques Heath (Lily May Peel)   \n",
       "7            8         0                     Palsson, Master. Gosta Leonard   \n",
       "8            9         1  Johnson, Mrs. Oscar W (Elisabeth Vilhelmina Berg)   \n",
       "\n",
       "      Sex  Age  SibSp  Parch  SibSp_Plus_Parch SibSp_Plus_Parch_Alone  \\\n",
       "0    male   22      1      0                 1                     no   \n",
       "1  female   38      1      0                 1                     no   \n",
       "3  female   35      1      0                 1                     no   \n",
       "7    male    2      3      1                 4                     no   \n",
       "8  female   27      0      2                 2                     no   \n",
       "\n",
       "   AgeRound  \n",
       "0        22  \n",
       "1        38  \n",
       "3        35  \n",
       "7         2  \n",
       "8        27  "
      ]
     },
     "execution_count": 55,
     "metadata": {},
     "output_type": "execute_result"
    }
   ],
   "source": [
    "# Creating DataFrame that contains data on passengers with family\n",
    "DataFrame_Yes_Alone = df_titanic[(df_titanic.SibSp_Plus_Parch_Alone == 'yes') ]\n",
    "# Applying head module for visualize first five row of the df_titanic DataFrame with new column 'AgeRound'\n",
    "DataFrame_No_Alone.head()"
   ]
  },
  {
   "cell_type": "code",
   "execution_count": 56,
   "metadata": {
    "collapsed": false
   },
   "outputs": [],
   "source": [
    "# Apply 'grouped' function  to the 'DataFrame_Yes_Alone' that create DataFrame that aggregate passengers on the based \n",
    "# 'AgeRound' variable and count passengers\n",
    "DataFrame_Age_No_Alone = grouped(DataFrame_No_Alone ,'AgeRound','SibSp_Plus_Parch_Alone')"
   ]
  },
  {
   "cell_type": "code",
   "execution_count": 57,
   "metadata": {
    "collapsed": false
   },
   "outputs": [],
   "source": [
    "# Apply 'grouped' function to the 'DataFrame_Yes_Alone' DataFrame that create DataFrame that aggregate passengers on the based \n",
    "# 'AgeRound' variable and count passengers\n",
    "DataFrame_Age_Yes_Alone = grouped(DataFrame_Yes_Alone ,'AgeRound','SibSp_Plus_Parch_Alone')"
   ]
  },
  {
   "cell_type": "code",
   "execution_count": 58,
   "metadata": {
    "collapsed": false
   },
   "outputs": [
    {
     "data": {
      "image/png": "[encoded data removed]",
      "text/plain": [
       "<matplotlib.figure.Figure at 0xa2349e8>"
      ]
     },
     "metadata": {},
     "output_type": "display_data"
    }
   ],
   "source": [
    "# Creating barplot that represents 'SibSp_Plus_Parch_Alone'variable for \"DataFrame_Age_No_Alone\" DataFrame and for \n",
    "# \"DataFrame_Age_Yes_Alone\" DataFrame by Age, overlapping   \n",
    "# Define plot size in inches (width, height)  \n",
    "fig = plt.figure(figsize=(16, 8))\n",
    "\n",
    "#plot data\n",
    "no_alone = plt.bar(DataFrame_Age_No_Alone.AgeRound, DataFrame_Age_No_Alone.Number_of_Passenger,color='g')\n",
    "yes_alone = plt.bar(DataFrame_Age_Yes_Alone.AgeRound,DataFrame_Age_Yes_Alone.Number_of_Passenger,color='r') \n",
    "\n",
    "#labels\n",
    "plt.xlabel(\"Age\",size=16)\n",
    "plt.ylabel(\"SibSp Plus Parch\",size=16)\n",
    "\n",
    "#title\n",
    "plt.title(\"Age by SibSp Plus Parch \",size=16)\n",
    "\n",
    "#configure legend\n",
    "plt.legend( (no_alone,yes_alone), ('No Alone','Yes Alone') )\n",
    "\n",
    "#show plot\n",
    "plt.show()"
   ]
  },
  {
   "cell_type": "markdown",
   "metadata": {},
   "source": [
    "In the plot above, we observe that the majority of the passengers no alone were on the titanic were between the ages of 0 and 15 years. Given that it is likely the children didn't travel alone, we consider \"children\", the passengers are in the 0-15 age group. In this age group are few the passengers alone.   "
   ]
  },
  {
   "cell_type": "code",
   "execution_count": 59,
   "metadata": {
    "collapsed": false
   },
   "outputs": [
    {
     "data": {
      "text/html": [
       "<div>\n",
       "<table border=\"1\" class=\"dataframe\">\n",
       "  <thead>\n",
       "    <tr style=\"text-align: right;\">\n",
       "      <th></th>\n",
       "      <th>PassengerId</th>\n",
       "      <th>Survived</th>\n",
       "      <th>Name</th>\n",
       "      <th>Sex</th>\n",
       "      <th>Age</th>\n",
       "      <th>SibSp</th>\n",
       "      <th>Parch</th>\n",
       "      <th>SibSp_Plus_Parch</th>\n",
       "      <th>SibSp_Plus_Parch_Alone</th>\n",
       "      <th>AgeRound</th>\n",
       "    </tr>\n",
       "  </thead>\n",
       "  <tbody>\n",
       "    <tr>\n",
       "      <th>14</th>\n",
       "      <td>15</td>\n",
       "      <td>0</td>\n",
       "      <td>Vestrom, Miss. Hulda Amanda Adolfina</td>\n",
       "      <td>female</td>\n",
       "      <td>14</td>\n",
       "      <td>0</td>\n",
       "      <td>0</td>\n",
       "      <td>0</td>\n",
       "      <td>yes</td>\n",
       "      <td>14</td>\n",
       "    </tr>\n",
       "    <tr>\n",
       "      <th>22</th>\n",
       "      <td>23</td>\n",
       "      <td>1</td>\n",
       "      <td>McGowan, Miss. Anna \"Annie\"</td>\n",
       "      <td>female</td>\n",
       "      <td>15</td>\n",
       "      <td>0</td>\n",
       "      <td>0</td>\n",
       "      <td>0</td>\n",
       "      <td>yes</td>\n",
       "      <td>15</td>\n",
       "    </tr>\n",
       "    <tr>\n",
       "      <th>731</th>\n",
       "      <td>732</td>\n",
       "      <td>0</td>\n",
       "      <td>Hassan, Mr. Houssein G N</td>\n",
       "      <td>male</td>\n",
       "      <td>11</td>\n",
       "      <td>0</td>\n",
       "      <td>0</td>\n",
       "      <td>0</td>\n",
       "      <td>yes</td>\n",
       "      <td>11</td>\n",
       "    </tr>\n",
       "    <tr>\n",
       "      <th>777</th>\n",
       "      <td>778</td>\n",
       "      <td>1</td>\n",
       "      <td>Emanuel, Miss. Virginia Ethel</td>\n",
       "      <td>female</td>\n",
       "      <td>5</td>\n",
       "      <td>0</td>\n",
       "      <td>0</td>\n",
       "      <td>0</td>\n",
       "      <td>yes</td>\n",
       "      <td>5</td>\n",
       "    </tr>\n",
       "    <tr>\n",
       "      <th>780</th>\n",
       "      <td>781</td>\n",
       "      <td>1</td>\n",
       "      <td>Ayoub, Miss. Banoura</td>\n",
       "      <td>female</td>\n",
       "      <td>13</td>\n",
       "      <td>0</td>\n",
       "      <td>0</td>\n",
       "      <td>0</td>\n",
       "      <td>yes</td>\n",
       "      <td>13</td>\n",
       "    </tr>\n",
       "    <tr>\n",
       "      <th>875</th>\n",
       "      <td>876</td>\n",
       "      <td>1</td>\n",
       "      <td>Najib, Miss. Adele Kiamie \"Jane\"</td>\n",
       "      <td>female</td>\n",
       "      <td>15</td>\n",
       "      <td>0</td>\n",
       "      <td>0</td>\n",
       "      <td>0</td>\n",
       "      <td>yes</td>\n",
       "      <td>15</td>\n",
       "    </tr>\n",
       "  </tbody>\n",
       "</table>\n",
       "</div>"
      ],
      "text/plain": [
       "     PassengerId  Survived                                  Name     Sex  Age  \\\n",
       "14            15         0  Vestrom, Miss. Hulda Amanda Adolfina  female   14   \n",
       "22            23         1           McGowan, Miss. Anna \"Annie\"  female   15   \n",
       "731          732         0              Hassan, Mr. Houssein G N    male   11   \n",
       "777          778         1         Emanuel, Miss. Virginia Ethel  female    5   \n",
       "780          781         1                  Ayoub, Miss. Banoura  female   13   \n",
       "875          876         1      Najib, Miss. Adele Kiamie \"Jane\"  female   15   \n",
       "\n",
       "     SibSp  Parch  SibSp_Plus_Parch SibSp_Plus_Parch_Alone  AgeRound  \n",
       "14       0      0                 0                    yes        14  \n",
       "22       0      0                 0                    yes        15  \n",
       "731      0      0                 0                    yes        11  \n",
       "777      0      0                 0                    yes         5  \n",
       "780      0      0                 0                    yes        13  \n",
       "875      0      0                 0                    yes        15  "
      ]
     },
     "execution_count": 59,
     "metadata": {},
     "output_type": "execute_result"
    }
   ],
   "source": [
    "# Creating DataFrame that contains data of alone passengers between the ages of 5 and 15  \n",
    "passengers_5_years = df_titanic[((df_titanic.AgeRound >= 5) & (df_titanic.AgeRound <= 15)) \\\n",
    "                     & (df_titanic.SibSp_Plus_Parch_Alone == 'yes')]\n",
    "# Visualize Dataframe \n",
    "passengers_5_years"
   ]
  },
  {
   "cell_type": "markdown",
   "metadata": {},
   "source": [
    "Reading biography, https://www.encyclopedia-titanica.org/, reported following, of the passengers in the 0-15 age group alone, this were on the titanic together with someone that not included in the definitions used for the variable 'SibSp' and 'Parch'. This strengthens the definition of children based on 0-15 age group.      \n",
    "\n",
    "* Vestrom, Miss. Hulda Amanda Adolfina\n",
    "Hulda boarded the Titanic at Southampton, having travelled via Copenhagen, as a third class passenger (ticket number 350406  which cost £7, 17s, 1d ). She was travelling with her maternal aunt, Hulda Christina Eugenia Klasén, née Löfqvist, to her home in Los Angeles, California and was also accompanied by Mrs Klasén's brother-in-law Klas Albin Klasén and his niece Gertrude Emilia Klasén. Other in the party included: Mrs Sandström and her two daughters, and Elina Olsson and Thure Lundström.\n",
    "\n",
    "* McGowan, Miss. Anna \"Annie\" \n",
    "In late 1911 Annie's aunt Catherine McGowan, her father's younger unmarried sister, had returned home to Ireland from Chicago, Illinois with the intent on chaperoning her niece across the Atlantic and they were part of a group of over a dozen steerage passengers from their locale making the same journey aboard Titanic. Annie and her boarded Titanic at Queenstown on 11 April 1912 (ticket number330923 which cost £7, 15s, 7d) and her destination was to the home of another aunt, Mrs Thomas McDermott of 3241 North Ashland Avenue, Chicago.\n",
    "\n",
    "* Hassan, Mr. Houssein G N\n",
    "Mr Husayn Mahmūd Husayn Ibrāhīm, 11, from Lebanon was travelling with Nassef Cassem Albimona to visit his parents in America.\n",
    "Mr Farīd Husayn Qāsim Al-Munà was born in Shānā, Lebanon around 1893.\n",
    "Aged 18 in 1912, Farīd worked as a farmhand in his native Shānā. A relative (presumably a cousin), Nāsīf Qāsim Abī-Al-Munà, had been living in the USA since 1903 and had established himself as a successful merchant. He had returned to Shānā around late 1910 where he married before making plans to return to America; Farīd would be joining him on his return across the Atlantic.\n",
    "Farīd boarded the Titanic at Cherbourg on 10 April 1912 (ticket number 2700 which cost £7, 4s, 7d) as a third class passenger. Travelling with him, besides Nāsīf Qāsim Abī-Al-Munà, was another young relative, 11-year-old Husayn Mahmūd Husayn Ibrāhīm, and his destination was to be Fredericksburg, Virginia, where Nāsīf made his home.\n",
    "\n",
    "* Emanuel, Miss. Virginia Ethel \n",
    "Miss Virginia Ethel Emmanuel, 5, boarded the Titanic at Southampton with her Nurse Miss Elizabeth Dowdell who was escorting her to her grandparents home in New York, NY. Her step-father had deserted her and her mother who was, according the New York American, the Opera singer Estelle Emanuele\n",
    "\n",
    "* Ayoub, Miss. Banoura \n",
    "Miss Banoura Ayoub 1, aged 14 2 from Kafr 'Abaida, Lebanon was travelling to Columbus, USA to join her uncle in Owen Sound, Ontario, Canada. She did not know or understand English and left her parents behind in Lebanon.\n",
    "She boarded the Titanic at Cherbourg as a third class passenger (ticket number 2687, £7 4s 7d) with the cousins Shawneene George Whabee, Tannous Thomas, Gerios Yousseff and Tannous Doharr. The rest of the group were bound for Youngstown. Ohio.\n",
    "\n",
    "* Najib, Miss. Adele Kiamie \"Jane\"\n",
    "Miss Adele Jane Kiamie Najib, 15, was born in Syria (Lebanon) on 14 November 1896, the daughter of Najeeb Kiamie and Merion Nasias. She boarded the Titanic at Cherbourg as a third class passenger together with Latifa Baclini and Mrs Baclini's daughters (ticket number 2667, £7 4s 6d). She was travelling to America to be married. The women and the three girls were rescued in collapsible C."
   ]
  },
  {
   "cell_type": "code",
   "execution_count": 66,
   "metadata": {
    "collapsed": false,
    "scrolled": true
   },
   "outputs": [],
   "source": [
    "# Creating function 'child' that returns 'yes' if the numeric value is x is less than or equal to 15 or 'no' if the numeric value \n",
    "# is greater than 15  \n",
    "def child(age):\n",
    "    if  age <= 15:\n",
    "        return 'yes'\n",
    "    else:\n",
    "        return 'no'"
   ]
  },
  {
   "cell_type": "code",
   "execution_count": 67,
   "metadata": {
    "collapsed": false
   },
   "outputs": [
    {
     "data": {
      "text/html": [
       "<div>\n",
       "<table border=\"1\" class=\"dataframe\">\n",
       "  <thead>\n",
       "    <tr style=\"text-align: right;\">\n",
       "      <th></th>\n",
       "      <th>PassengerId</th>\n",
       "      <th>Survived</th>\n",
       "      <th>Name</th>\n",
       "      <th>Sex</th>\n",
       "      <th>Age</th>\n",
       "      <th>SibSp</th>\n",
       "      <th>Parch</th>\n",
       "      <th>SibSp_Plus_Parch</th>\n",
       "      <th>SibSp_Plus_Parch_Alone</th>\n",
       "      <th>AgeRound</th>\n",
       "      <th>children</th>\n",
       "    </tr>\n",
       "  </thead>\n",
       "  <tbody>\n",
       "    <tr>\n",
       "      <th>0</th>\n",
       "      <td>1</td>\n",
       "      <td>0</td>\n",
       "      <td>Braund, Mr. Owen Harris</td>\n",
       "      <td>male</td>\n",
       "      <td>22</td>\n",
       "      <td>1</td>\n",
       "      <td>0</td>\n",
       "      <td>1</td>\n",
       "      <td>no</td>\n",
       "      <td>22</td>\n",
       "      <td>no</td>\n",
       "    </tr>\n",
       "    <tr>\n",
       "      <th>1</th>\n",
       "      <td>2</td>\n",
       "      <td>1</td>\n",
       "      <td>Cumings, Mrs. John Bradley (Florence Briggs Th...</td>\n",
       "      <td>female</td>\n",
       "      <td>38</td>\n",
       "      <td>1</td>\n",
       "      <td>0</td>\n",
       "      <td>1</td>\n",
       "      <td>no</td>\n",
       "      <td>38</td>\n",
       "      <td>no</td>\n",
       "    </tr>\n",
       "    <tr>\n",
       "      <th>2</th>\n",
       "      <td>3</td>\n",
       "      <td>1</td>\n",
       "      <td>Heikkinen, Miss. Laina</td>\n",
       "      <td>female</td>\n",
       "      <td>26</td>\n",
       "      <td>0</td>\n",
       "      <td>0</td>\n",
       "      <td>0</td>\n",
       "      <td>yes</td>\n",
       "      <td>26</td>\n",
       "      <td>no</td>\n",
       "    </tr>\n",
       "    <tr>\n",
       "      <th>3</th>\n",
       "      <td>4</td>\n",
       "      <td>1</td>\n",
       "      <td>Futrelle, Mrs. Jacques Heath (Lily May Peel)</td>\n",
       "      <td>female</td>\n",
       "      <td>35</td>\n",
       "      <td>1</td>\n",
       "      <td>0</td>\n",
       "      <td>1</td>\n",
       "      <td>no</td>\n",
       "      <td>35</td>\n",
       "      <td>no</td>\n",
       "    </tr>\n",
       "    <tr>\n",
       "      <th>4</th>\n",
       "      <td>5</td>\n",
       "      <td>0</td>\n",
       "      <td>Allen, Mr. William Henry</td>\n",
       "      <td>male</td>\n",
       "      <td>35</td>\n",
       "      <td>0</td>\n",
       "      <td>0</td>\n",
       "      <td>0</td>\n",
       "      <td>yes</td>\n",
       "      <td>35</td>\n",
       "      <td>no</td>\n",
       "    </tr>\n",
       "  </tbody>\n",
       "</table>\n",
       "</div>"
      ],
      "text/plain": [
       "   PassengerId  Survived                                               Name  \\\n",
       "0            1         0                            Braund, Mr. Owen Harris   \n",
       "1            2         1  Cumings, Mrs. John Bradley (Florence Briggs Th...   \n",
       "2            3         1                             Heikkinen, Miss. Laina   \n",
       "3            4         1       Futrelle, Mrs. Jacques Heath (Lily May Peel)   \n",
       "4            5         0                           Allen, Mr. William Henry   \n",
       "\n",
       "      Sex  Age  SibSp  Parch  SibSp_Plus_Parch SibSp_Plus_Parch_Alone  \\\n",
       "0    male   22      1      0                 1                     no   \n",
       "1  female   38      1      0                 1                     no   \n",
       "2  female   26      0      0                 0                    yes   \n",
       "3  female   35      1      0                 1                     no   \n",
       "4    male   35      0      0                 0                    yes   \n",
       "\n",
       "   AgeRound children  \n",
       "0        22       no  \n",
       "1        38       no  \n",
       "2        26       no  \n",
       "3        35       no  \n",
       "4        35       no  "
      ]
     },
     "execution_count": 67,
     "metadata": {},
     "output_type": "execute_result"
    }
   ],
   "source": [
    "# Creating new variable 'children', adding column to the df_titanic DataFrame, which is given by application 'child' function \n",
    "# 'Age' column\n",
    "df_titanic['children'] = df_titanic.Age.apply(child)    \n",
    "df_titanic.head()"
   ]
  },
  {
   "cell_type": "code",
   "execution_count": 68,
   "metadata": {
    "collapsed": false
   },
   "outputs": [
    {
     "data": {
      "text/html": [
       "<div>\n",
       "<table border=\"1\" class=\"dataframe\">\n",
       "  <thead>\n",
       "    <tr style=\"text-align: right;\">\n",
       "      <th></th>\n",
       "      <th>children</th>\n",
       "      <th>Survived</th>\n",
       "      <th>Sex</th>\n",
       "      <th>Number_of_Passenger</th>\n",
       "    </tr>\n",
       "  </thead>\n",
       "  <tbody>\n",
       "    <tr>\n",
       "      <th>0</th>\n",
       "      <td>no</td>\n",
       "      <td>0</td>\n",
       "      <td>female</td>\n",
       "      <td>66</td>\n",
       "    </tr>\n",
       "    <tr>\n",
       "      <th>1</th>\n",
       "      <td>no</td>\n",
       "      <td>0</td>\n",
       "      <td>male</td>\n",
       "      <td>449</td>\n",
       "    </tr>\n",
       "    <tr>\n",
       "      <th>2</th>\n",
       "      <td>no</td>\n",
       "      <td>1</td>\n",
       "      <td>female</td>\n",
       "      <td>205</td>\n",
       "    </tr>\n",
       "    <tr>\n",
       "      <th>3</th>\n",
       "      <td>no</td>\n",
       "      <td>1</td>\n",
       "      <td>male</td>\n",
       "      <td>88</td>\n",
       "    </tr>\n",
       "    <tr>\n",
       "      <th>4</th>\n",
       "      <td>yes</td>\n",
       "      <td>0</td>\n",
       "      <td>female</td>\n",
       "      <td>15</td>\n",
       "    </tr>\n",
       "    <tr>\n",
       "      <th>5</th>\n",
       "      <td>yes</td>\n",
       "      <td>0</td>\n",
       "      <td>male</td>\n",
       "      <td>19</td>\n",
       "    </tr>\n",
       "    <tr>\n",
       "      <th>6</th>\n",
       "      <td>yes</td>\n",
       "      <td>1</td>\n",
       "      <td>female</td>\n",
       "      <td>28</td>\n",
       "    </tr>\n",
       "    <tr>\n",
       "      <th>7</th>\n",
       "      <td>yes</td>\n",
       "      <td>1</td>\n",
       "      <td>male</td>\n",
       "      <td>21</td>\n",
       "    </tr>\n",
       "  </tbody>\n",
       "</table>\n",
       "</div>"
      ],
      "text/plain": [
       "  children  Survived     Sex  Number_of_Passenger\n",
       "0       no         0  female                   66\n",
       "1       no         0    male                  449\n",
       "2       no         1  female                  205\n",
       "3       no         1    male                   88\n",
       "4      yes         0  female                   15\n",
       "5      yes         0    male                   19\n",
       "6      yes         1  female                   28\n",
       "7      yes         1    male                   21"
      ]
     },
     "execution_count": 68,
     "metadata": {},
     "output_type": "execute_result"
    }
   ],
   "source": [
    "# Apply function 'grouped' to the 'df_titanic' DataFrame that create DataFrame that aggregate passengers on the based 'children'\n",
    "# variable, Survived and Sex, and count passengers \n",
    "DataFrame_children_Sex_Survived = grouped(df_titanic,['children','Survived','Sex'],'PassengerId')\n",
    "DataFrame_children_Sex_Survived "
   ]
  },
  {
   "cell_type": "code",
   "execution_count": 72,
   "metadata": {
    "collapsed": false
   },
   "outputs": [
    {
     "name": "stdout",
     "output_type": "stream",
     "text": [
      "Number of children: 83\n",
      "Number of adult: 808\n"
     ]
    }
   ],
   "source": [
    "# Calculating the number of children and adult passengers\n",
    "total_children = DataFrame_children_Sex_Survived.Number_of_Passenger[4:8].sum() \n",
    "total_adult = DataFrame_children_Sex_Survived.Number_of_Passenger[0:4].sum() \n",
    "\n",
    "print'Number of children:', total_children\n",
    "print'Number of adult:', total_adult"
   ]
  },
  {
   "cell_type": "code",
   "execution_count": 70,
   "metadata": {
    "collapsed": false
   },
   "outputs": [
    {
     "name": "stdout",
     "output_type": "stream",
     "text": [
      "Number of boys: 40\n",
      "Number of girls: 43\n",
      "Number of men: 537\n",
      "Number of women: 271\n"
     ]
    }
   ],
   "source": [
    "# Calculating the number of boys, girls, men and women\n",
    "total_boys = DataFrame_children_Sex_Survived.Number_of_Passenger[5] + DataFrame_children_Sex_Survived.Number_of_Passenger[7]\n",
    "total_girls = DataFrame_children_Sex_Survived.Number_of_Passenger[4] + DataFrame_children_Sex_Survived.Number_of_Passenger[6]\n",
    "total_men = DataFrame_children_Sex_Survived.Number_of_Passenger[1] + DataFrame_children_Sex_Survived.Number_of_Passenger[3]\n",
    "total_women = DataFrame_children_Sex_Survived.Number_of_Passenger[0] + DataFrame_children_Sex_Survived.Number_of_Passenger[2] \n",
    "\n",
    "print'Number of boys:', total_boys\n",
    "print'Number of girls:', total_girls\n",
    "print'Number of men:', total_men\n",
    "print'Number of women:', total_women"
   ]
  },
  {
   "cell_type": "code",
   "execution_count": 74,
   "metadata": {
    "collapsed": false
   },
   "outputs": [
    {
     "name": "stdout",
     "output_type": "stream",
     "text": [
      "Number of children survived: 49\n",
      "Number of children died: 34\n",
      "Number of adult survived: 293\n",
      "Number of adult died: 515\n"
     ]
    }
   ],
   "source": [
    "# Calculating the number of survivors child, dead child,survivors adult and dead adult\n",
    "total_survived_children = DataFrame_children_Sex_Survived.Number_of_Passenger[6:8] .sum()\n",
    "total_died_children = DataFrame_children_Sex_Survived.Number_of_Passenger[4:6].sum() \n",
    "total_survived_adult = DataFrame_children_Sex_Survived.Number_of_Passenger[2:4].sum()\n",
    "total_died_adult = DataFrame_children_Sex_Survived.Number_of_Passenger[0:2].sum() \n",
    " \n",
    "print 'Number of children survived:', total_survived_children\n",
    "print 'Number of children died:', total_died_children \n",
    "print 'Number of adult survived:', total_survived_adult\n",
    "print 'Number of adult died:', total_died_adult"
   ]
  },
  {
   "cell_type": "code",
   "execution_count": 75,
   "metadata": {
    "collapsed": false
   },
   "outputs": [
    {
     "data": {
      "image/png": "[encoded data removed]",
      "text/plain": [
       "<matplotlib.figure.Figure at 0xc0243c8>"
      ]
     },
     "metadata": {},
     "output_type": "display_data"
    }
   ],
   "source": [
    "# Creating barplot that represented number of survivors and dead by children and adult \n",
    "# Define plot size in inches (width, height)\n",
    "fig = plt.figure(figsize=(14, 8))\n",
    "\n",
    "# define the x location  \n",
    "index = np.arange(0,2,1)\n",
    "\n",
    "#plot data\n",
    "died_bar = plt.bar(index, [total_died_children,total_died_adult], width = 0.35,color='g')\n",
    "survived_bar = plt.bar(index + 0.35, [total_survived_children, total_survived_adult], width = 0.35,color='b')\n",
    "\n",
    "#configure legend\n",
    "plt.legend( (died_bar,survived_bar), ('Died','Survived') )\n",
    "\n",
    "#configure X axes\n",
    "plt.xlim(-0.35,2)\n",
    "plt.xticks(index + 0.35, ('Children','Adult'))\n",
    "\n",
    "#configure  Y axes\n",
    "plt.ylim(0,600)\n",
    "plt.yticks(np.arange(0,600,100))\n",
    "\n",
    "#labels\n",
    "plt.xlabel(\"Survived\", size=16)\n",
    "plt.ylabel(\"Number of Passengers\", size=16)\n",
    "\n",
    "#title\n",
    "plt.title(\"Number of Died and Survived Passengers by children variable\" , size=16)\n",
    "\n",
    "#adjust plot\n",
    "plt.subplots_adjust(left=0.19)\n",
    "#show plot\n",
    "plt.show()"
   ]
  },
  {
   "cell_type": "code",
   "execution_count": 76,
   "metadata": {
    "collapsed": false
   },
   "outputs": [
    {
     "name": "stdout",
     "output_type": "stream",
     "text": [
      "Number of boys survived: 21\n",
      "Number of boys died: 19\n",
      "Number of girls survived: 28\n",
      "Number of girls died: 15\n",
      "Number of men survived: 88\n",
      "Number of men died: 449\n",
      "Number of woman survived: 205\n",
      "Number of woman died: 66\n"
     ]
    }
   ],
   "source": [
    "total_survived_boys = DataFrame_children_Sex_Survived.Number_of_Passenger[7] \n",
    "total_survived_girls = DataFrame_children_Sex_Survived.Number_of_Passenger[6] \n",
    "total_survived_men = DataFrame_children_Sex_Survived.Number_of_Passenger[3] \n",
    "total_survived_women = DataFrame_children_Sex_Survived.Number_of_Passenger[2] \n",
    "total_died_boys = DataFrame_children_Sex_Survived.Number_of_Passenger[5] \n",
    "total_died_girls = DataFrame_children_Sex_Survived.Number_of_Passenger[4] \n",
    "total_died_men = DataFrame_children_Sex_Survived.Number_of_Passenger[1] \n",
    "total_died_women = DataFrame_children_Sex_Survived.Number_of_Passenger[0]  \n",
    "\n",
    "    \n",
    "print 'Number of boys survived:', total_survived_boys\n",
    "print 'Number of boys died:', total_died_boys\n",
    "print 'Number of girls survived:', total_survived_girls \n",
    "print 'Number of girls died:', total_died_girls\n",
    "print 'Number of men survived:', total_survived_men\n",
    "print 'Number of men died:', total_died_men\n",
    "print 'Number of woman survived:', total_survived_women\n",
    "print 'Number of woman died:', total_died_women"
   ]
  },
  {
   "cell_type": "code",
   "execution_count": 77,
   "metadata": {
    "collapsed": false
   },
   "outputs": [
    {
     "data": {
      "image/png": "[encoded data removed]",
      "text/plain": [
       "<matplotlib.figure.Figure at 0xc0ee0f0>"
      ]
     },
     "metadata": {},
     "output_type": "display_data"
    }
   ],
   "source": [
    "# Creating barplot that represented number of survivors and dead by adult(men and woman) and children(boys and girls)\n",
    "# Define plot size in inches (width, height)\n",
    "fig = plt.figure(figsize=(14, 8))\n",
    "\n",
    "# Defining the x locations for the groups\n",
    "index = np.arange(0,4,1)\n",
    "\n",
    "#define width bar \n",
    "bar_width = 0.35\n",
    "\n",
    "#plot data\n",
    "died_bar = plt.bar(index, [total_died_girls,total_died_boys,total_died_women,total_died_men], width = 0.35,color='g')\n",
    "survived_bar = plt.bar(index + bar_width, [total_survived_girls,total_survived_boys, total_survived_women,total_survived_men], width=0.35,color='b')\n",
    "\n",
    "#configure legend\n",
    "plt.legend( (died_bar,survived_bar), ('Died','Survived') )\n",
    "\n",
    "#configure X axes\n",
    "plt.xlim(-0.35,4)\n",
    "plt.xticks(index + 0.35, ('Girls','Boys','Women','Men'))\n",
    "\n",
    "#configure  Y axes\n",
    "plt.ylim(0,600)\n",
    "plt.yticks(np.arange(0,600,100))\n",
    "\n",
    "#labels\n",
    "plt.xlabel(\"Survived\", size=16)\n",
    "plt.ylabel(\"Number of Passengers\", size=16)\n",
    "\n",
    "#title\n",
    "plt.title(\"Number of Died and Survived by adult(men and women) and children(boys and girls)\" , size=16)\n",
    "\n",
    "#adjust plot\n",
    "plt.subplots_adjust(left=0.19)\n",
    "#show plot\n",
    "plt.show()"
   ]
  },
  {
   "cell_type": "markdown",
   "metadata": {},
   "source": [
    "The results that we obtained given us the definitive confirm of the fact that it is adopted the code \"Women and child first\", in fact the adult passengers have more likely to die than a child passengers."
   ]
  },
  {
   "cell_type": "markdown",
   "metadata": {},
   "source": [
    "## Conclusion"
   ]
  },
  {
   "cell_type": "code",
   "execution_count": 78,
   "metadata": {
    "collapsed": false
   },
   "outputs": [
    {
     "data": {
      "text/html": [
       "<div>\n",
       "<table border=\"1\" class=\"dataframe\">\n",
       "  <thead>\n",
       "    <tr style=\"text-align: right;\">\n",
       "      <th></th>\n",
       "      <th>survived</th>\n",
       "      <th>died</th>\n",
       "    </tr>\n",
       "  </thead>\n",
       "  <tbody>\n",
       "    <tr>\n",
       "      <th>men</th>\n",
       "      <td>88</td>\n",
       "      <td>449</td>\n",
       "    </tr>\n",
       "    <tr>\n",
       "      <th>women</th>\n",
       "      <td>205</td>\n",
       "      <td>66</td>\n",
       "    </tr>\n",
       "    <tr>\n",
       "      <th>boys</th>\n",
       "      <td>21</td>\n",
       "      <td>19</td>\n",
       "    </tr>\n",
       "    <tr>\n",
       "      <th>girls</th>\n",
       "      <td>28</td>\n",
       "      <td>15</td>\n",
       "    </tr>\n",
       "  </tbody>\n",
       "</table>\n",
       "</div>"
      ],
      "text/plain": [
       "       survived  died\n",
       "men          88   449\n",
       "women       205    66\n",
       "boys         21    19\n",
       "girls        28    15"
      ]
     },
     "execution_count": 78,
     "metadata": {},
     "output_type": "execute_result"
    }
   ],
   "source": [
    "# Creating DatfaFrame that report number of survived and died by men, women, boys and girls\n",
    "data = {'survived':[total_survived_men,total_survived_women,total_survived_boys,total_survived_girls],\\\n",
    "        'died':[total_died_men,total_died_women,total_died_boys,total_died_girls]}  \n",
    "men_women_boys_girls_survival = pd.DataFrame(data,columns=['survived','died'],index=['men','women','boys','girls'])\n",
    "men_women_boys_girls_survival"
   ]
  },
  {
   "cell_type": "markdown",
   "metadata": {},
   "source": [
    "Sinking the Titanic : ‘women and children first’ ? Based on the previous investigation and analysis, the answer is yes, the code of conduct \"women and children first\" was adopted. This results that obtained are  than simply making correlational observations.  Further analysis, statistical testing, it is necessary to validating results. The Chi-Square Test for Independence is used. "
   ]
  },
  {
   "cell_type": "code",
   "execution_count": 40,
   "metadata": {
    "collapsed": false
   },
   "outputs": [
    {
     "data": {
      "text/plain": [
       "(285.31771527232513,\n",
       " 1.4968007259779755e-61,\n",
       " 3L,\n",
       " array([[ 206.12121212,  330.87878788],\n",
       "        [ 104.02020202,  166.97979798],\n",
       "        [  15.35353535,   24.64646465],\n",
       "        [  16.50505051,   26.49494949]]))"
      ]
     },
     "execution_count": 40,
     "metadata": {},
     "output_type": "execute_result"
    }
   ],
   "source": [
    "# Loading library to perform statistical test\n",
    "import scipy.stats as sps\n",
    "\n",
    "# Performing Chi-Square Test \n",
    "sps.chi2_contingency(men_women_boys_girls_survival)"
   ]
  },
  {
   "cell_type": "markdown",
   "metadata": {},
   "source": [
    "The p-value is  1.4968007259779755e-61. Given that the p-value is so small, we reject the null hypothesis of Chi-Square Test that the survival and be man,woman,boy or girl are independent. Then, using the Titanic dataset given there is association between be man,woman,boy or girl and survival."
   ]
  },
  {
   "cell_type": "markdown",
   "metadata": {},
   "source": [
    "## References"
   ]
  },
  {
   "cell_type": "markdown",
   "metadata": {},
   "source": [
    "* https://www.kaggle.com/c/titanic/data \n",
    "* https://it.wikipedia.org/wiki/Women_and_Children_First \n",
    "* Wes McKinney - Python for Data Analysis: Data Wrangling with Pandas, NumPy, and IPython\n",
    "* http://pandas.pydata.org/pandas-docs/version/0.18.1/tutorials.html\n",
    "* https://www.encyclopedia-titanica.org/\n",
    "* http://matplotlib.org/examples/\n",
    "* http://blog.bharatbhole.com/creating-boxplots-with-matplotlib/\n",
    "* http://mple.m-artwork.eu/tutorial"
   ]
  }
 ],
 "metadata": {
  "kernelspec": {
   "display_name": "Python 2",
   "language": "python",
   "name": "python2"
  },
  "language_info": {
   "codemirror_mode": {
    "name": "ipython",
    "version": 2
   },
   "file_extension": ".py",
   "mimetype": "text/x-python",
   "name": "python",
   "nbconvert_exporter": "python",
   "pygments_lexer": "ipython2",
   "version": "2.7.11"
  }
 },
 "nbformat": 4,
 "nbformat_minor": 0
}
